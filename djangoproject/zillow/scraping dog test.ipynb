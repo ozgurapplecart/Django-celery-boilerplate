{
 "cells": [
  {
   "cell_type": "code",
   "execution_count": 2,
   "id": "99f7aae9",
   "metadata": {},
   "outputs": [],
   "source": [
    "import requests"
   ]
  },
  {
   "cell_type": "code",
   "execution_count": 3,
   "id": "8b97b4f4",
   "metadata": {},
   "outputs": [],
   "source": [
    "listing_urls = [\"https://www.zillow.com/new-york-ny-11236/\"]\n",
    "\n",
    "results = []\n",
    "\n",
    "for target_url in listing_urls:\n",
    "    url = f\"https://api.scrapingdog.com/scrape?api_key=649c53e10a13b35c882b97ce&url={target_url}&premium=true&country=us\"\n",
    "    r = requests.get(url, headers={'content-type': 'application/json', 'Accept-Charset': 'UTF-8'})\n",
    "    results.append(r.content)"
   ]
  },
  {
   "cell_type": "code",
   "execution_count": 6,
   "id": "04909721",
   "metadata": {},
   "outputs": [],
   "source": [
    "from bs4 import BeautifulSoup"
   ]
  },
  {
   "cell_type": "code",
   "execution_count": 17,
   "id": "a0870cf4",
   "metadata": {},
   "outputs": [],
   "source": [
    "soup = BeautifulSoup(str(results[0]), 'html.parser')\n"
   ]
  },
  {
   "cell_type": "code",
   "execution_count": 18,
   "id": "f900017f",
   "metadata": {},
   "outputs": [
    {
     "data": {
      "text/plain": [
       "True"
      ]
     },
     "execution_count": 18,
     "metadata": {},
     "output_type": "execute_result"
    }
   ],
   "source": [
    "\"ListItem-c11n-8-89-0__sc-10e22w8-0 StyledListCardWrapper-srp__sc-wtsrtn-0 jTAaHO gTOWtl\" in str(results[0])"
   ]
  },
  {
   "cell_type": "code",
   "execution_count": 22,
   "id": "a9f2272e",
   "metadata": {},
   "outputs": [],
   "source": [
    "list_items = soup.find_all(\"li\", {\"class\": \"ListItem-c11n-8-89-0__sc-10e22w8-0 StyledListCardWrapper-srp__sc-wtsrtn-0 jTAaHO gTOWtl\"})"
   ]
  },
  {
   "cell_type": "code",
   "execution_count": 54,
   "id": "b485aaeb",
   "metadata": {},
   "outputs": [],
   "source": [
    "import ast\n",
    "\n",
    "\n",
    "properties_for_sale=[]\n",
    "for i in range(len(list_items)):\n",
    "    listed_item = {}\n",
    "    script_element = list_items[i].find('script')\n",
    "    if script_element:\n",
    "        \n",
    "        dct = ast.literal_eval(script_element.text)\n",
    "\n",
    "        listed_item['type']=dct['@type']\n",
    "        listed_item['name']=dct['name']\n",
    "        listed_item['address-type']=dct['address']['@type']\n",
    "        listed_item['address']=dct['address']['streetAddress']\n",
    "        listed_item['address-addressLocality']=dct['address']['addressLocality']\n",
    "        listed_item['address-addressRegion']=dct['address']['addressRegion']\n",
    "        listed_item['address-postalCode']=dct['address']['postalCode']\n",
    "        listed_item['geo-type']=dct['geo']['@type']\n",
    "        listed_item['geo-latitude']=dct['geo']['latitude']\n",
    "        listed_item['geo-latitude']=dct['geo']['longitude']\n",
    "        listed_item['url']=dct['url']\n",
    "        properties_for_sale.append(listed_item)\n",
    "    #print(properties_for_sale)"
   ]
  },
  {
   "cell_type": "code",
   "execution_count": 56,
   "id": "699bd232",
   "metadata": {},
   "outputs": [
    {
     "data": {
      "text/plain": [
       "['https://www.zillow.com/homedetails/1568-Rockaway-Pkwy-Brooklyn-NY-11236/30774435_zpid/',\n",
       " 'https://www.zillow.com/homedetails/1496-E-95th-St-1A-Brooklyn-NY-11236/2056940084_zpid/',\n",
       " 'https://www.zillow.com/homedetails/1111-E-93rd-St-400-Brooklyn-NY-11236/2087001208_zpid/',\n",
       " 'https://www.zillow.com/homedetails/1455-E-108th-St-APT-2A-Brooklyn-NY-11236/30777824_zpid/',\n",
       " 'https://www.zillow.com/homedetails/1496-E-95th-St-1-Brooklyn-NY-11236/2060555150_zpid/',\n",
       " 'https://www.zillow.com/homedetails/1072-E-86th-St-Brooklyn-NY-11236/30770024_zpid/',\n",
       " 'https://www.zillow.com/homedetails/1370-E-92nd-St-Brooklyn-NY-11236/30776028_zpid/',\n",
       " 'https://www.zillow.com/homedetails/653-E-79th-St-Brooklyn-NY-11236/30767739_zpid/']"
      ]
     },
     "execution_count": 56,
     "metadata": {},
     "output_type": "execute_result"
    }
   ],
   "source": [
    "[property_for_sale['url'] for property_for_sale in properties_for_sale]"
   ]
  },
  {
   "cell_type": "code",
   "execution_count": 50,
   "id": "ab48dfab",
   "metadata": {},
   "outputs": [],
   "source": [
    "properties_urls = [property_for_sale['url'] for property_for_sale in properties_for_sale]\n",
    "property_results = []\n",
    "\n",
    "for target_url in properties_urls:\n",
    "    url = f\"https://api.scrapingdog.com/scrape?api_key=649c53e10a13b35c882b97ce&url={target_url}&premium=true&country=us\"\n",
    "    r = requests.get(url, headers={'content-type': 'application/json', 'Accept-Charset': 'UTF-8'})\n",
    "    property_results.append(r.content)"
   ]
  },
  {
   "cell_type": "code",
   "execution_count": 53,
   "id": "f10c7d87",
   "metadata": {},
   "outputs": [],
   "source": [
    "soup = BeautifulSoup(str(property_results[0]), 'html.parser')"
   ]
  },
  {
   "cell_type": "code",
   "execution_count": 93,
   "id": "6a69bf21",
   "metadata": {},
   "outputs": [
    {
     "name": "stdout",
     "output_type": "stream",
     "text": [
      "260000\n"
     ]
    }
   ],
   "source": [
    "price = soup.find(\"span\", {\"data-testid\": \"price\"})\n",
    "print(price.text.replace(\"$\",\"\").replace(\",\",\"\"))"
   ]
  },
  {
   "cell_type": "markdown",
   "id": "b9f17e65",
   "metadata": {},
   "source": [
    "properties_for_real_estate = soup.find_all(\"div\", {\n",
    "    \"class\": \"StyledPropertyCardDataWrapper-c11n-8-69-2__sc-1omp4c3-0 KzAaq property-card-data\"})\n",
    "\n",
    "result = []\n",
    "for x in range(0, len(properties_for_real_estate)):\n",
    "    property_dict = {}\n",
    "    try:\n",
    "        property_dict[\"pricing\"] = properties_for_real_estate[x].find(\"div\", {\n",
    "            \"class\": \"StyledPropertyCardDataArea-c11n-8-69-2__sc-yipmu-0 kJFQQX\"}).text\n",
    "    except:\n",
    "        property_dict[\"pricing\"] = None\n",
    "    try:\n",
    "        property_dict[\"size\"] = properties_for_real_estate[x].find(\"div\", {\n",
    "            \"class\": \"StyledPropertyCardDataArea-c11n-8-69-2__sc-yipmu-0 bKFUMJ\"}).text\n",
    "    except:\n",
    "        property_dict[\"size\"] = None\n",
    "    try:\n",
    "        property_dict[\"address\"] = properties_for_real_estate[x].find(\"a\", {\n",
    "            \"class\": \"StyledPropertyCardDataArea-c11n-8-69-2__sc-yipmu-0 dZxoFm property-card-link\"}).text\n",
    "    except:\n",
    "        property_dict[\"address\"] = None\n",
    "    result.append(property_dict)"
   ]
  },
  {
   "cell_type": "code",
   "execution_count": 71,
   "id": "a452f37e",
   "metadata": {},
   "outputs": [
    {
     "name": "stdout",
     "output_type": "stream",
     "text": [
      "3 bd 1 ba 2,700 sqft\n"
     ]
    }
   ],
   "source": [
    "bed_bath_items = soup.find_all(\"span\", {\"data-testid\": \"bed-bath-item\"})\n",
    "\n",
    "bed = bed_bath_items[0].text\n",
    "bath = bed_bath_items[1].text\n",
    "sqft = bed_bath_items[2].text\n",
    "print(bed,bath,sqft)"
   ]
  },
  {
   "cell_type": "code",
   "execution_count": 109,
   "id": "03314580",
   "metadata": {},
   "outputs": [],
   "source": [
    "def get_data_from_span_with_class_name(soup, class_name):\n",
    "    return soup.find(\"span\", {\"class\": class_name}).text.replace(\"$\",\"\").replace(\",\",\"\").replace(\"'\", \"s\")\n",
    "    "
   ]
  },
  {
   "cell_type": "code",
   "execution_count": 110,
   "id": "e2f16766",
   "metadata": {},
   "outputs": [
    {
     "data": {
      "text/plain": [
       "'254700'"
      ]
     },
     "execution_count": 110,
     "metadata": {},
     "output_type": "execute_result"
    }
   ],
   "source": [
    "get_data_from_span_with_class_name(soup,\"Text-c11n-8-89-0__sc-aiai24-0 cfmKEe\")"
   ]
  },
  {
   "cell_type": "code",
   "execution_count": 114,
   "id": "f5e706c7",
   "metadata": {},
   "outputs": [
    {
     "data": {
      "text/plain": [
       "False"
      ]
     },
     "execution_count": 114,
     "metadata": {},
     "output_type": "execute_result"
    }
   ],
   "source": [
    "\"Text-c11n-8-89-0__sc-aiai24-0 hdp__sc-1w7ie4j-1 hdp__sc-111s858-5 cfmKEe blNPNa jjsTPx\" in str(soup)"
   ]
  },
  {
   "cell_type": "code",
   "execution_count": 113,
   "id": "62260370",
   "metadata": {},
   "outputs": [
    {
     "ename": "AttributeError",
     "evalue": "'NoneType' object has no attribute 'text'",
     "output_type": "error",
     "traceback": [
      "\u001b[0;31m---------------------------------------------------------------------------\u001b[0m",
      "\u001b[0;31mAttributeError\u001b[0m                            Traceback (most recent call last)",
      "Cell \u001b[0;32mIn[113], line 1\u001b[0m\n\u001b[0;32m----> 1\u001b[0m \u001b[43mget_data_from_span_with_class_name\u001b[49m\u001b[43m(\u001b[49m\u001b[43msoup\u001b[49m\u001b[43m,\u001b[49m\u001b[38;5;124;43m\"\u001b[39;49m\u001b[38;5;124;43mText-c11n-8-89-0__sc-aiai24-0 hdp__sc-1w7ie4j-1 hdp__sc-111s858-5 cfmKEe blNPNa jjsTPx\u001b[39;49m\u001b[38;5;124;43m\"\u001b[39;49m\u001b[43m)\u001b[49m\n",
      "Cell \u001b[0;32mIn[109], line 2\u001b[0m, in \u001b[0;36mget_data_from_span_with_class_name\u001b[0;34m(soup, class_name)\u001b[0m\n\u001b[1;32m      1\u001b[0m \u001b[38;5;28;01mdef\u001b[39;00m \u001b[38;5;21mget_data_from_span_with_class_name\u001b[39m(soup, class_name):\n\u001b[0;32m----> 2\u001b[0m     \u001b[38;5;28;01mreturn\u001b[39;00m \u001b[43msoup\u001b[49m\u001b[38;5;241;43m.\u001b[39;49m\u001b[43mfind\u001b[49m\u001b[43m(\u001b[49m\u001b[38;5;124;43m\"\u001b[39;49m\u001b[38;5;124;43mspan\u001b[39;49m\u001b[38;5;124;43m\"\u001b[39;49m\u001b[43m,\u001b[49m\u001b[43m \u001b[49m\u001b[43m{\u001b[49m\u001b[38;5;124;43m\"\u001b[39;49m\u001b[38;5;124;43mclass\u001b[39;49m\u001b[38;5;124;43m\"\u001b[39;49m\u001b[43m:\u001b[49m\u001b[43m \u001b[49m\u001b[43mclass_name\u001b[49m\u001b[43m}\u001b[49m\u001b[43m)\u001b[49m\u001b[38;5;241;43m.\u001b[39;49m\u001b[43mtext\u001b[49m\u001b[38;5;241m.\u001b[39mreplace(\u001b[38;5;124m\"\u001b[39m\u001b[38;5;124m$\u001b[39m\u001b[38;5;124m\"\u001b[39m,\u001b[38;5;124m\"\u001b[39m\u001b[38;5;124m\"\u001b[39m)\u001b[38;5;241m.\u001b[39mreplace(\u001b[38;5;124m\"\u001b[39m\u001b[38;5;124m,\u001b[39m\u001b[38;5;124m\"\u001b[39m,\u001b[38;5;124m\"\u001b[39m\u001b[38;5;124m\"\u001b[39m)\u001b[38;5;241m.\u001b[39mreplace(\u001b[38;5;124m\"\u001b[39m\u001b[38;5;124m'\u001b[39m\u001b[38;5;124m\"\u001b[39m, \u001b[38;5;124m\"\u001b[39m\u001b[38;5;124ms\u001b[39m\u001b[38;5;124m\"\u001b[39m)\n",
      "\u001b[0;31mAttributeError\u001b[0m: 'NoneType' object has no attribute 'text'"
     ]
    }
   ],
   "source": [
    "get_data_from_span_with_class_name(soup,\"Text-c11n-8-89-0__sc-aiai24-0 hdp__sc-1w7ie4j-1 hdp__sc-111s858-5 cfmKEe blNPNa jjsTPx\")"
   ]
  },
  {
   "cell_type": "code",
   "execution_count": null,
   "id": "011ccf3e",
   "metadata": {},
   "outputs": [],
   "source": []
  }
 ],
 "metadata": {
  "kernelspec": {
   "display_name": "Python 3 (ipykernel)",
   "language": "python",
   "name": "python3"
  },
  "language_info": {
   "codemirror_mode": {
    "name": "ipython",
    "version": 3
   },
   "file_extension": ".py",
   "mimetype": "text/x-python",
   "name": "python",
   "nbconvert_exporter": "python",
   "pygments_lexer": "ipython3",
   "version": "3.10.3"
  }
 },
 "nbformat": 4,
 "nbformat_minor": 5
}
